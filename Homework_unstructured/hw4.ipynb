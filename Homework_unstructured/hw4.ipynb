{
 "cells": [
  {
   "cell_type": "code",
   "execution_count": 1,
   "id": "6871c820",
   "metadata": {},
   "outputs": [],
   "source": [
    "class ListNode:\n",
    "    def __init__(self, data:int):\n",
    "        self.data = data\n",
    "        self.next = None\n",
    "    def __iter__(self):\n",
    "        current = self\n",
    "        while current is not None:\n",
    "            yield current # suspend and output current ListNode object\n",
    "            current = current.next"
   ]
  },
  {
   "cell_type": "code",
   "execution_count": 2,
   "id": "be812302",
   "metadata": {},
   "outputs": [],
   "source": [
    "def init_list(seq:list)->ListNode:\n",
    "    head = None\n",
    "    for seq_idx,i in enumerate(seq):\n",
    "        if head is None:\n",
    "            head = ListNode(i)\n",
    "            tail = head\n",
    "        elif type(i) is int and i < 0:\n",
    "            for idx,n in enumerate(head):\n",
    "                if idx == seq_idx+i:\n",
    "                    tail.next = n\n",
    "                    break\n",
    "        else:\n",
    "            tail.next = ListNode(i)\n",
    "            tail = tail.next\n",
    "    return head"
   ]
  },
  {
   "cell_type": "code",
   "execution_count": 26,
   "id": "48115415",
   "metadata": {},
   "outputs": [],
   "source": [
    "import copy\n",
    "def has_cycle(ln: ListNode):\n",
    "    match_node = None\n",
    "    match_num = 0\n",
    "    second_match = False\n",
    "    l1 = copy.copy(ln)\n",
    "    l2 = copy.copy(ln)\n",
    "    while second_match != True:\n",
    "        print(l1.data)\n",
    "        print(l2.data)\n",
    "        print(\"-----\")\n",
    "        if l1 == l2:\n",
    "            match_num += 1\n",
    "            if match_num ==1:\n",
    "                l1 = l1.next.next\n",
    "                l2 = l2.next\n",
    "            if match_num == 2:\n",
    "                match_node = l1\n",
    "                second_match = True\n",
    "                \n",
    "        elif l1.next == None:\n",
    "                return match_node\n",
    "        elif l1.next.next == None:\n",
    "                return match_node\n",
    "        else: \n",
    "            l1 = l1.next.next\n",
    "            l2 = l2.next\n",
    "    turtle_list = [ln]\n",
    "    final_match = False\n",
    "    print(\"one\")\n",
    "    while not final_match:\n",
    "        if match_node in turtle_list:\n",
    "            final_match == True\n",
    "            return match_node.data\n",
    "        else:\n",
    "            match_node = match_node.next\n",
    "            ln = ln.next\n",
    "            turtle_list.append(ln)"
   ]
  },
  {
   "cell_type": "code",
   "execution_count": 4,
   "id": "aa9df115",
   "metadata": {},
   "outputs": [
    {
     "name": "stdout",
     "output_type": "stream",
     "text": [
      "None\n"
     ]
    }
   ],
   "source": [
    "print(has_cycle(init_list([1,2,3,4,5])))"
   ]
  },
  {
   "cell_type": "code",
   "execution_count": 19,
   "id": "163ef0de",
   "metadata": {},
   "outputs": [
    {
     "name": "stdout",
     "output_type": "stream",
     "text": [
      "False\n"
     ]
    }
   ],
   "source": [
    "x = False\n",
    "while x != True:\n",
    "    print(x)\n",
    "    x = True"
   ]
  },
  {
   "cell_type": "code",
   "execution_count": 27,
   "id": "c8b88da1",
   "metadata": {
    "scrolled": true
   },
   "outputs": [
    {
     "name": "stdout",
     "output_type": "stream",
     "text": [
      "1\n",
      "1\n",
      "-----\n",
      "3\n",
      "2\n",
      "-----\n",
      "5\n",
      "3\n",
      "-----\n",
      "7\n",
      "4\n",
      "-----\n",
      "4\n",
      "5\n",
      "-----\n",
      "6\n",
      "6\n",
      "-----\n",
      "8\n",
      "7\n",
      "-----\n",
      "5\n",
      "8\n",
      "-----\n",
      "7\n",
      "4\n",
      "-----\n",
      "4\n",
      "5\n",
      "-----\n",
      "6\n",
      "6\n",
      "-----\n",
      "one\n",
      "4\n"
     ]
    }
   ],
   "source": [
    "print(has_cycle(init_list([1,2,3,4,5,6,7,8,-5])))"
   ]
  },
  {
   "cell_type": "code",
   "execution_count": 29,
   "id": "29073325",
   "metadata": {},
   "outputs": [
    {
     "name": "stdout",
     "output_type": "stream",
     "text": [
      "[1, 2]\n",
      "[1, 2]\n"
     ]
    }
   ],
   "source": [
    "x = [[1,2],[1,2]]\n",
    "for i in x:\n",
    "    print(i)"
   ]
  },
  {
   "cell_type": "code",
   "execution_count": 30,
   "id": "3ad57348",
   "metadata": {},
   "outputs": [
    {
     "name": "stdout",
     "output_type": "stream",
     "text": [
      "[1, 2, 3, 4, 5, 6, 7, 8, 9]\n"
     ]
    }
   ],
   "source": [
    "print(list(range(1,10)))"
   ]
  },
  {
   "cell_type": "code",
   "execution_count": 62,
   "id": "1fc84010",
   "metadata": {},
   "outputs": [],
   "source": [
    "def check_rule(test:list)->bool:\n",
    "    valid = list(range(1,10))\n",
    "    try:\n",
    "        for element in test:\n",
    "            if element != 0:\n",
    "                valid.remove(element)\n",
    "            else: pass\n",
    "        return True\n",
    "    except:\n",
    "        return False\n",
    "def is_valid_sudoku(board:list)->bool:\n",
    "    ok = False\n",
    "    for row in board:\n",
    "        ok = check_rule(row)\n",
    "        if ok == False:\n",
    "            return False\n",
    "    for column_index in range(0,9):\n",
    "        ok = check_rule(board[:][column_index])\n",
    "        if ok == False:\n",
    "            return False\n",
    "    #建立新的array, 每個 row 都是 board 的 3x3 sub_array\n",
    "    sub_array = []\n",
    "    for index in range(0,9):\n",
    "        sub_array.append([0]*9)\n",
    "    for i, row in enumerate(board):\n",
    "        for j, column_element in enumerate(row):\n",
    "            sub_array[(i//3)*3+j//3][(i%3)*3+j%3] = column_element \n",
    "    for row in sub_array:\n",
    "        ok = check_rule(row)\n",
    "        if ok == False:\n",
    "            return False\n",
    "    return True\n",
    "    "
   ]
  },
  {
   "cell_type": "code",
   "execution_count": 54,
   "id": "ac1e220f",
   "metadata": {},
   "outputs": [
    {
     "name": "stdout",
     "output_type": "stream",
     "text": [
      "[9, 0, 0, 0, 7, 0, 3, 0, 0]\n"
     ]
    }
   ],
   "source": [
    "sub_array = [[0, 0, 0, 0, 0, 0, 0, 8, 1],\n",
    " [9, 0, 0, 0, 7, 0, 3, 0, 0],\n",
    " [0, 0, 0, 9, 2, 4, 0, 6, 0],\n",
    " [0, 8, 5, 0, 0, 0, 0, 0, 0], \n",
    " [7, 4, 0, 0, 3, 0, 0, 2, 6], \n",
    " [0, 1, 0, 0, 0, 9, 7, 0, 0], \n",
    " [0, 6, 0, 0, 0, 1, 0, 0, 3], \n",
    " [3, 2, 0, 0, 8, 7, 0, 0, 0], \n",
    " [8, 0, 0, 0, 5, 6, 2, 1, 4]]\n",
    "print(sub_array[:][1])"
   ]
  },
  {
   "cell_type": "code",
   "execution_count": 60,
   "id": "5a577479",
   "metadata": {},
   "outputs": [
    {
     "name": "stdout",
     "output_type": "stream",
     "text": [
      "[0, 0, 0, 9, 0, 0, 0, 0, 0]\n",
      "[0, 0, 0, 0, 7, 0, 9, 2, 4]\n",
      "[0, 8, 1, 3, 0, 0, 0, 6, 0]\n",
      "[0, 8, 5, 7, 4, 0, 0, 1, 0]\n",
      "[0, 0, 0, 0, 3, 0, 0, 0, 9]\n",
      "[0, 0, 0, 0, 2, 6, 7, 0, 0]\n",
      "[0, 6, 0, 3, 2, 0, 8, 0, 0]\n",
      "[0, 0, 1, 0, 8, 7, 0, 5, 6]\n",
      "[0, 0, 3, 0, 0, 0, 2, 1, 4]\n",
      "True\n"
     ]
    }
   ],
   "source": [
    "print(is_valid_sudoku([[0, 0, 0, 0, 0, 0, 0, 8, 1],\n",
    " [9, 0, 0, 0, 7, 0, 3, 0, 0],\n",
    " [0, 0, 0, 9, 2, 4, 0, 6, 0],\n",
    " [0, 8, 5, 0, 0, 0, 0, 0, 0], \n",
    " [7, 4, 0, 0, 3, 0, 0, 2, 6], \n",
    " [0, 1, 0, 0, 0, 9, 7, 0, 0], \n",
    " [0, 6, 0, 0, 0, 1, 0, 0, 3], \n",
    " [3, 2, 0, 0, 8, 7, 0, 0, 0], \n",
    " [8, 0, 0, 0, 5, 6, 2, 1, 4]]))"
   ]
  },
  {
   "cell_type": "code",
   "execution_count": 61,
   "id": "60bce03a",
   "metadata": {},
   "outputs": [
    {
     "name": "stdout",
     "output_type": "stream",
     "text": [
      "[0, 0, 0, 0, 0, 0, 0, 0, 0]\n",
      "[0, 0, 0, 0, 0, 0, 0, 7, 0]\n",
      "[0, 0, 0, 1, 0, 0, 0, 0, 0]\n",
      "[8, 0, 7, 0, 0, 3, 0, 0, 1]\n",
      "[0, 0, 0, 0, 5, 4, 0, 0, 0]\n",
      "[0, 0, 4, 0, 0, 0, 3, 4, 0]\n",
      "False\n"
     ]
    }
   ],
   "source": [
    "print(is_valid_sudoku(\n",
    "[[0, 0, 0, 0, 0, 0, 0, 0, 0],\n",
    " [0, 0, 0, 0, 0, 0, 1, 0, 0], \n",
    " [0, 0, 0, 0, 7, 0, 0, 0, 0], \n",
    " [8, 0, 7, 0, 0, 0, 0, 0, 4], \n",
    " [0, 0, 3, 0, 5, 4, 0, 0, 0], \n",
    " [0, 0, 1, 0, 0, 0, 3, 4, 0], \n",
    " [0, 0, 8, 0, 0, 0, 0, 0, 0], \n",
    " [0, 0, 0, 0, 4, 2, 0, 0, 6], \n",
    " [0, 0, 0, 0, 0, 0, 0, 0, 3]]))"
   ]
  },
  {
   "cell_type": "code",
   "execution_count": 57,
   "id": "ae03997e",
   "metadata": {},
   "outputs": [
    {
     "data": {
      "text/plain": [
       "False"
      ]
     },
     "execution_count": 57,
     "metadata": {},
     "output_type": "execute_result"
    }
   ],
   "source": [
    "check_rule([0, 0, 4, 0, 0, 0, 3, 4, 0])"
   ]
  }
 ],
 "metadata": {
  "kernelspec": {
   "display_name": "Python 3",
   "language": "python",
   "name": "python3"
  },
  "language_info": {
   "codemirror_mode": {
    "name": "ipython",
    "version": 3
   },
   "file_extension": ".py",
   "mimetype": "text/x-python",
   "name": "python",
   "nbconvert_exporter": "python",
   "pygments_lexer": "ipython3",
   "version": "3.8.8"
  }
 },
 "nbformat": 4,
 "nbformat_minor": 5
}
