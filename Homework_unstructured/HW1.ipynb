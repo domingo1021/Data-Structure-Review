{
 "cells": [
  {
   "cell_type": "code",
   "execution_count": 5,
   "id": "97909edc",
   "metadata": {},
   "outputs": [],
   "source": [
    "w = \"ART\"\n",
    "t = \"TKABR\""
   ]
  },
  {
   "cell_type": "code",
   "execution_count": 26,
   "id": "c1be9bbc",
   "metadata": {},
   "outputs": [
    {
     "name": "stdout",
     "output_type": "stream",
     "text": [
      "AR\n"
     ]
    }
   ],
   "source": [
    "w_2 = \"ART\"\n",
    "if w_2.find(\"T\"):\n",
    "    w_2 = w_2.replace(\"T\",\"\")\n",
    "print(w_2)\n"
   ]
  },
  {
   "cell_type": "code",
   "execution_count": 30,
   "id": "92531aaa",
   "metadata": {},
   "outputs": [],
   "source": [
    "# 第一題\n",
    "def is_valid_word(word, title):\n",
    "    for index in range(len(title)):\n",
    "        character = title[index]\n",
    "        if character in word:\n",
    "            word = word.replace(character, \"\", 1)\n",
    "        if len(word) == 0:\n",
    "            return True\n",
    "    if len(word) != 0:\n",
    "        return False"
   ]
  },
  {
   "cell_type": "code",
   "execution_count": 29,
   "id": "315c226b",
   "metadata": {
    "scrolled": false
   },
   "outputs": [
    {
     "name": "stdout",
     "output_type": "stream",
     "text": [
      "T\n",
      "HUE\n",
      "K\n",
      "HUE\n",
      "A\n",
      "HUE\n",
      "B\n",
      "HUE\n",
      "R\n",
      "HUE\n"
     ]
    },
    {
     "data": {
      "text/plain": [
       "False"
      ]
     },
     "execution_count": 29,
     "metadata": {},
     "output_type": "execute_result"
    }
   ],
   "source": [
    "is_valid_word(\"HUE\", \"TKABR\")"
   ]
  },
  {
   "cell_type": "code",
   "execution_count": 32,
   "id": "0d74d379",
   "metadata": {},
   "outputs": [
    {
     "data": {
      "text/plain": [
       "'0b10011010010'"
      ]
     },
     "execution_count": 32,
     "metadata": {},
     "output_type": "execute_result"
    }
   ],
   "source": [
    "i = 1234\n",
    "bin(i)"
   ]
  },
  {
   "cell_type": "code",
   "execution_count": 49,
   "id": "e85b17db",
   "metadata": {},
   "outputs": [],
   "source": [
    "def count_bits(n):\n",
    "    b = bin(n)\n",
    "    count = 0\n",
    "    for index in range(len(b)):\n",
    "        if b[index] == \"1\":\n",
    "            count += 1\n",
    "    return count"
   ]
  },
  {
   "cell_type": "code",
   "execution_count": 50,
   "id": "3c0cd10e",
   "metadata": {
    "scrolled": true
   },
   "outputs": [
    {
     "data": {
      "text/plain": [
       "3"
      ]
     },
     "execution_count": 50,
     "metadata": {},
     "output_type": "execute_result"
    }
   ],
   "source": [
    "count_bits(100)"
   ]
  },
  {
   "cell_type": "code",
   "execution_count": 51,
   "id": "bcfeb18f",
   "metadata": {},
   "outputs": [],
   "source": [
    "li = [1,1,2,2,3,43,5,3]\n",
    "li.remove(1)"
   ]
  },
  {
   "cell_type": "code",
   "execution_count": 52,
   "id": "8ee188a2",
   "metadata": {},
   "outputs": [
    {
     "data": {
      "text/plain": [
       "[1, 2, 2, 3, 43, 5, 3]"
      ]
     },
     "execution_count": 52,
     "metadata": {},
     "output_type": "execute_result"
    }
   ],
   "source": [
    "li"
   ]
  },
  {
   "cell_type": "code",
   "execution_count": 53,
   "id": "e560bad1",
   "metadata": {},
   "outputs": [],
   "source": [
    "def remove_element(nums, val):\n",
    "    while val in nums:\n",
    "        nums.remove(val)\n",
    "    return len(nums)"
   ]
  },
  {
   "cell_type": "code",
   "execution_count": 55,
   "id": "3ce26950",
   "metadata": {},
   "outputs": [
    {
     "data": {
      "text/plain": [
       "5"
      ]
     },
     "execution_count": 55,
     "metadata": {},
     "output_type": "execute_result"
    }
   ],
   "source": [
    "remove_element(li, 2)"
   ]
  },
  {
   "cell_type": "code",
   "execution_count": 57,
   "id": "58309a72",
   "metadata": {},
   "outputs": [
    {
     "data": {
      "text/plain": [
       "[1, 3, 43, 5, 3]"
      ]
     },
     "execution_count": 57,
     "metadata": {},
     "output_type": "execute_result"
    }
   ],
   "source": [
    "li"
   ]
  }
 ],
 "metadata": {
  "kernelspec": {
   "display_name": "Python 3",
   "language": "python",
   "name": "python3"
  },
  "language_info": {
   "codemirror_mode": {
    "name": "ipython",
    "version": 3
   },
   "file_extension": ".py",
   "mimetype": "text/x-python",
   "name": "python",
   "nbconvert_exporter": "python",
   "pygments_lexer": "ipython3",
   "version": "3.8.8"
  }
 },
 "nbformat": 4,
 "nbformat_minor": 5
}
