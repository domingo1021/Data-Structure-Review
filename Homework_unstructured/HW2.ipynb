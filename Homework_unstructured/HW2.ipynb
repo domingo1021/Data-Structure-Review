{
 "cells": [
  {
   "cell_type": "markdown",
   "id": "71beca74",
   "metadata": {},
   "source": [
    "### 教授的方法：\n",
    "x = 123 <br>\n",
    "x = int(str(abs(x))[::-1]) <br>\n",
    "先將x轉成str, reverse with index 後，再轉換回int 加入正負號即可。"
   ]
  },
  {
   "cell_type": "code",
   "execution_count": 10,
   "id": "0814292e",
   "metadata": {},
   "outputs": [],
   "source": [
    "def reverse_digits(x:int)-> int:\n",
    "    if abs(x)<= 2**31:\n",
    "        y = (-1 if x<0 else 1) * int(str(abs(x))[::-1])\n",
    "        if abs(y) >=2**31:\n",
    "            return 0\n",
    "        else: return y\n",
    "    else: return 0"
   ]
  },
  {
   "cell_type": "code",
   "execution_count": 14,
   "id": "82458010",
   "metadata": {},
   "outputs": [
    {
     "data": {
      "text/plain": [
       "3354231"
      ]
     },
     "execution_count": 14,
     "metadata": {},
     "output_type": "execute_result"
    }
   ],
   "source": [
    "reverse_digits(-1111231443534)\n",
    "reverse_digits(1324533)"
   ]
  },
  {
   "cell_type": "code",
   "execution_count": 3,
   "id": "1fda6770",
   "metadata": {},
   "outputs": [
    {
     "data": {
      "text/plain": [
       "'b'"
      ]
     },
     "execution_count": 3,
     "metadata": {},
     "output_type": "execute_result"
    }
   ],
   "source": [
    "x = \"abc\"\n",
    "x[1]"
   ]
  },
  {
   "cell_type": "code",
   "execution_count": 4,
   "id": "94c9fa28",
   "metadata": {},
   "outputs": [
    {
     "data": {
      "text/plain": [
       "'cba'"
      ]
     },
     "execution_count": 4,
     "metadata": {},
     "output_type": "execute_result"
    }
   ],
   "source": [
    "x[::-1]"
   ]
  },
  {
   "cell_type": "code",
   "execution_count": 41,
   "id": "8abe48f1",
   "metadata": {},
   "outputs": [],
   "source": [
    "def reverse_digits(x:int)->int:\n",
    "    digit_list = []\n",
    "    result = 0.0\n",
    "    multiplier = 0\n",
    "    if x>=0:\n",
    "        while(x!=0):\n",
    "            remaining = x % 10\n",
    "            multiplier += 1\n",
    "            x = int(x/10)\n",
    "            digit_list.append(remaining)\n",
    "        print(digit_list)\n",
    "        for i in range(multiplier):\n",
    "            result += digit_list.pop()*10**(i)\n",
    "        if (abs(result) > 0xffffffff):\n",
    "            return 0\n",
    "        return int(result)\n",
    "    else:\n",
    "        minus = -1\n",
    "        x *= minus\n",
    "        while(x!=0):\n",
    "            remaining = x % 10\n",
    "            multiplier += 1\n",
    "            x = int(x/10)\n",
    "            digit_list.append(remaining)\n",
    "        print(digit_list)\n",
    "        for i in range(multiplier):\n",
    "            result += digit_list.pop()*10**(i)\n",
    "        if (abs(result) > 0xffffffff):\n",
    "            return 0\n",
    "        else: return int(result*minus)\n",
    "    \n",
    "        \n",
    "        "
   ]
  },
  {
   "cell_type": "code",
   "execution_count": 48,
   "id": "ba703d39",
   "metadata": {},
   "outputs": [
    {
     "name": "stdout",
     "output_type": "stream",
     "text": [
      "[8, 4, 6, 3, 8, 4, 7, 4, 1, 2]\n"
     ]
    },
    {
     "data": {
      "text/plain": [
       "-8463847412"
      ]
     },
     "execution_count": 48,
     "metadata": {},
     "output_type": "execute_result"
    }
   ],
   "source": [
    "reverse_digits(-2**31)"
   ]
  },
  {
   "cell_type": "code",
   "execution_count": 29,
   "id": "890f1c40",
   "metadata": {
    "scrolled": true
   },
   "outputs": [
    {
     "data": {
      "text/plain": [
       "-11"
      ]
     },
     "execution_count": 29,
     "metadata": {},
     "output_type": "execute_result"
    }
   ],
   "source": [
    "int(-111/10)"
   ]
  },
  {
   "cell_type": "code",
   "execution_count": 35,
   "id": "32cbaf18",
   "metadata": {},
   "outputs": [
    {
     "data": {
      "text/plain": [
       "0"
      ]
     },
     "execution_count": 35,
     "metadata": {},
     "output_type": "execute_result"
    }
   ],
   "source": []
  },
  {
   "cell_type": "code",
   "execution_count": 73,
   "id": "a71373da",
   "metadata": {},
   "outputs": [],
   "source": [
    "def get_largest_cycle(i:int, j:int)->int:\n",
    "    i, j = min(i,j),max(i,j)\n",
    "    max_cycle = 1\n",
    "    for index in range(i, j):\n",
    "        max_cycle = max(get_cycle(index), max_cycle)\n",
    "    return max_cycle"
   ]
  },
  {
   "cell_type": "code",
   "execution_count": 75,
   "id": "1139e197",
   "metadata": {},
   "outputs": [],
   "source": [
    "def get_cycle(n: int)->int:\n",
    "    time = 1\n",
    "    while(n != 1):\n",
    "        if n%2 != 0:\n",
    "            n = 3*n+1\n",
    "        else: n /= 2 \n",
    "        time += 1\n",
    "    return time"
   ]
  },
  {
   "cell_type": "code",
   "execution_count": 76,
   "id": "bcb28f4c",
   "metadata": {},
   "outputs": [
    {
     "data": {
      "text/plain": [
       "20"
      ]
     },
     "execution_count": 76,
     "metadata": {},
     "output_type": "execute_result"
    }
   ],
   "source": [
    "get_largest_cycle(1,10)"
   ]
  },
  {
   "cell_type": "code",
   "execution_count": 55,
   "id": "ca615024",
   "metadata": {},
   "outputs": [],
   "source": [
    "i=10\n",
    "j=5\n",
    "i, j = min(i,j),max(i,j)"
   ]
  },
  {
   "cell_type": "code",
   "execution_count": 56,
   "id": "d6ed14f5",
   "metadata": {},
   "outputs": [
    {
     "name": "stdout",
     "output_type": "stream",
     "text": [
      "5\n",
      "10\n"
     ]
    }
   ],
   "source": [
    "print(i)\n",
    "print(j)"
   ]
  }
 ],
 "metadata": {
  "kernelspec": {
   "display_name": "Python 3",
   "language": "python",
   "name": "python3"
  },
  "language_info": {
   "codemirror_mode": {
    "name": "ipython",
    "version": 3
   },
   "file_extension": ".py",
   "mimetype": "text/x-python",
   "name": "python",
   "nbconvert_exporter": "python",
   "pygments_lexer": "ipython3",
   "version": "3.8.8"
  }
 },
 "nbformat": 4,
 "nbformat_minor": 5
}
