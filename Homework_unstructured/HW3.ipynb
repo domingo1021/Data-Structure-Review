{
 "cells": [
  {
   "cell_type": "code",
   "execution_count": 48,
   "id": "d54c71af",
   "metadata": {},
   "outputs": [],
   "source": [
    "def available_seats(seats:list)-> int:\n",
    "    new_seats = seats.copy()\n",
    "    new_seats.insert(0, 0)\n",
    "    new_seats.insert(len(new_seats), 0)\n",
    "    available = 0\n",
    "    for index, num in enumerate(new_seats):\n",
    "        if index!=0 and index!=(len(new_seats)-1):\n",
    "            if num == 0 and new_seats[index-1] ==0 and new_seats[index+1]==0:\n",
    "                available += 1\n",
    "                new_seats[index] = 1\n",
    "    return available"
   ]
  },
  {
   "cell_type": "code",
   "execution_count": 40,
   "id": "012e24ac",
   "metadata": {},
   "outputs": [
    {
     "name": "stdout",
     "output_type": "stream",
     "text": [
      "3\n",
      "0\n"
     ]
    }
   ],
   "source": [
    "print(available_seats([0,0,0,1,0,0,0,0]))\n",
    "print(available_seats([1]))"
   ]
  },
  {
   "cell_type": "code",
   "execution_count": 49,
   "id": "0054ae97",
   "metadata": {
    "scrolled": true
   },
   "outputs": [
    {
     "name": "stdout",
     "output_type": "stream",
     "text": [
      "0\n"
     ]
    }
   ],
   "source": [
    "print(available_seats([1,1,1,1,1,1,0]))"
   ]
  },
  {
   "cell_type": "code",
   "execution_count": 56,
   "id": "4d4f2af3",
   "metadata": {},
   "outputs": [
    {
     "name": "stdout",
     "output_type": "stream",
     "text": [
      "True\n"
     ]
    }
   ],
   "source": [
    "x = [1,2,3]\n",
    "y = [3,2,1]\n",
    "y.sort()\n",
    "print(x==y)"
   ]
  },
  {
   "cell_type": "code",
   "execution_count": 62,
   "id": "ea915a23",
   "metadata": {},
   "outputs": [],
   "source": [
    "def is_jolly_jump(nums: list)->bool:\n",
    "    target = list(range(len(nums)))[1:]\n",
    "    diff_list = []\n",
    "    for index, num in enumerate(nums):\n",
    "        if index != len(nums)-1:\n",
    "            diff_list.append(abs(nums[index+1]-num))\n",
    "    return sorted(diff_list) == target\n",
    "    "
   ]
  },
  {
   "cell_type": "code",
   "execution_count": 64,
   "id": "608d9b71",
   "metadata": {},
   "outputs": [
    {
     "name": "stdout",
     "output_type": "stream",
     "text": [
      "[3, 3, 2, 1]\n"
     ]
    },
    {
     "data": {
      "text/plain": [
       "False"
      ]
     },
     "execution_count": 64,
     "metadata": {},
     "output_type": "execute_result"
    }
   ],
   "source": [
    "is_jolly_jump([4,1,4,2,3])"
   ]
  }
 ],
 "metadata": {
  "kernelspec": {
   "display_name": "Python 3",
   "language": "python",
   "name": "python3"
  },
  "language_info": {
   "codemirror_mode": {
    "name": "ipython",
    "version": 3
   },
   "file_extension": ".py",
   "mimetype": "text/x-python",
   "name": "python",
   "nbconvert_exporter": "python",
   "pygments_lexer": "ipython3",
   "version": "3.8.8"
  }
 },
 "nbformat": 4,
 "nbformat_minor": 5
}
