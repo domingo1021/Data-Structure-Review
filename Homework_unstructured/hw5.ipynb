{
 "cells": [
  {
   "cell_type": "code",
   "execution_count": 2,
   "id": "d597348d",
   "metadata": {},
   "outputs": [],
   "source": [
    "def two_sum(nums: list, target:int) ->list:\n",
    "    hash_table = {}\n",
    "    for index, i in enumerate(nums) :\n",
    "        temp_num = target - i \n",
    "        if temp_num in hash_table:\n",
    "            return [nums.index(temp_num), index]\n",
    "        hash_table[i] = index\n",
    "    return [-1, -1]"
   ]
  },
  {
   "cell_type": "code",
   "execution_count": 13,
   "id": "211b1c41",
   "metadata": {},
   "outputs": [],
   "source": [
    "def find_nearest_repeated_word(s:list)-> int:\n",
    "    hash_table = {}\n",
    "    min_distance_table = {}\n",
    "    for index, ele in enumerate(s):\n",
    "        if ele in hash_table:\n",
    "            distance = index - hash_table[ele]\n",
    "            if ele in min_distance_table:\n",
    "                min_distance = min_distance_table[ele]\n",
    "                min_distance = min(min_distance, distance)\n",
    "                min_distance_table[ele] = min_distance\n",
    "            else: min_distance_table[ele] = distance\n",
    "        hash_table[ele] = index\n",
    "    if len(min_distance_table.keys()) != 0:\n",
    "        return min(min_distance_table.values())\n",
    "    else: return -1"
   ]
  },
  {
   "cell_type": "code",
   "execution_count": 14,
   "id": "13f47b6b",
   "metadata": {},
   "outputs": [
    {
     "name": "stdout",
     "output_type": "stream",
     "text": [
      "{}\n",
      "{'all': 0}\n",
      "{}\n",
      "{'all': 0, 'work': 1}\n",
      "{}\n",
      "{'all': 0, 'work': 1, 'and': 2}\n",
      "{}\n",
      "{'all': 0, 'work': 1, 'and': 2, 'no': 3}\n",
      "{}\n",
      "{'all': 0, 'work': 1, 'and': 2, 'no': 3, 'play': 4}\n",
      "{}\n",
      "{'all': 0, 'work': 1, 'and': 2, 'no': 3, 'play': 4, 'makes': 5}\n",
      "{}\n",
      "{'all': 0, 'work': 1, 'and': 2, 'no': 3, 'play': 4, 'makes': 5, 'for': 6}\n",
      "{'no': 4}\n",
      "{'all': 0, 'work': 1, 'and': 2, 'no': 7, 'play': 4, 'makes': 5, 'for': 6}\n",
      "{'no': 4, 'work': 7}\n",
      "{'all': 0, 'work': 8, 'and': 2, 'no': 7, 'play': 4, 'makes': 5, 'for': 6}\n",
      "{'no': 2, 'work': 7}\n",
      "{'all': 0, 'work': 8, 'and': 2, 'no': 9, 'play': 4, 'makes': 5, 'for': 6}\n",
      "{'no': 2, 'work': 7}\n",
      "{'all': 0, 'work': 8, 'and': 2, 'no': 9, 'play': 4, 'makes': 5, 'for': 6, 'fun': 10}\n",
      "{'no': 2, 'work': 7, 'and': 9}\n",
      "{'all': 0, 'work': 8, 'and': 11, 'no': 9, 'play': 4, 'makes': 5, 'for': 6, 'fun': 10}\n",
      "{'no': 2, 'work': 7, 'and': 9}\n",
      "{'all': 0, 'work': 8, 'and': 11, 'no': 12, 'play': 4, 'makes': 5, 'for': 6, 'fun': 10}\n",
      "{'no': 2, 'work': 7, 'and': 9}\n",
      "{'all': 0, 'work': 8, 'and': 11, 'no': 12, 'play': 4, 'makes': 5, 'for': 6, 'fun': 10, 'results': 13}\n",
      "2\n"
     ]
    }
   ],
   "source": [
    "print(find_nearest_repeated_word([\"all\", \"work\", \"and\", \"no\", \"play\", \"makes\", \"for\", \"no\", \"work\", \"no\", \"fun\", \"and\", \"no\", \"results\"]))"
   ]
  },
  {
   "cell_type": "code",
   "execution_count": null,
   "id": "c128c271",
   "metadata": {},
   "outputs": [],
   "source": []
  }
 ],
 "metadata": {
  "kernelspec": {
   "display_name": "Python 3",
   "language": "python",
   "name": "python3"
  },
  "language_info": {
   "codemirror_mode": {
    "name": "ipython",
    "version": 3
   },
   "file_extension": ".py",
   "mimetype": "text/x-python",
   "name": "python",
   "nbconvert_exporter": "python",
   "pygments_lexer": "ipython3",
   "version": "3.8.8"
  }
 },
 "nbformat": 4,
 "nbformat_minor": 5
}
