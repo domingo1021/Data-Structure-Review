{
 "cells": [
  {
   "cell_type": "markdown",
   "id": "fbc4420e",
   "metadata": {},
   "source": [
    "(1)\n",
    "To convert a graph from adjacency list which is a list of GraphVertex class to adjacency matrix in type of nested list of int."
   ]
  },
  {
   "cell_type": "markdown",
   "id": "e81548b6",
   "metadata": {},
   "source": [
    "**print(to_adj_matrix(initial_graph(5, [[2, 4], [4, 2], [1, 4], [4, 1], [3, 4], [4, 3], [1, 3], [3, 1]])))**\n",
    "<br>\n",
    "[[0, 0, 0, 0, 0], [0, 0, 0, 1, 1], [0, 0, 0, 0, 1], [0, 1, 0, 0, 1], [0, 1, 1, 1, 0]]\n",
    "<br>\n",
    "**print(to_adj_matrix(initial_graph(4, [[1, 1], [3, 0], [2, 1], [1, 2], [0, 2], [3, 3]])))**\n",
    "<br>\n",
    "[[0, 0, 1, 0], [0, 1, 1, 0], [0, 1, 0, 0], [1, 0, 0, 1]]\n"
   ]
  },
  {
   "cell_type": "code",
   "execution_count": 1,
   "id": "8ce7dd2b",
   "metadata": {},
   "outputs": [],
   "source": [
    "class GraphVertex:\n",
    "    def __init__(self, label):\n",
    "        self.label = label\n",
    "        self.edges = []   #Edges in Adjacency List\n",
    "\n",
    "def initial_graph(n:int, edge_list:list)->list:\n",
    "    graph = []\n",
    "    for i in range(n):\n",
    "        graph.append(GraphVertex(i))\n",
    "    for e in edge_list:\n",
    "        if 0 <= e[0] < n and 0 <= e[1] < n:\n",
    "            graph[e[0]].edges.append(graph[e[1]])\n",
    "    return graph"
   ]
  },
  {
   "cell_type": "code",
   "execution_count": 7,
   "id": "350881f7",
   "metadata": {},
   "outputs": [],
   "source": [
    "def to_adj_matrix(graph:list)->list:\n",
    "    M = [x[:] for x in [[0]*len(graph)]*len(graph)]\n",
    "    for index, vertex in enumerate(graph):\n",
    "        queue=vertex.edges\n",
    "        while len(queue)!=0:\n",
    "            current = queue.pop()\n",
    "            M[vertex.label][current.label] =1\n",
    "    return M"
   ]
  },
  {
   "cell_type": "code",
   "execution_count": 8,
   "id": "3d63a1e9",
   "metadata": {},
   "outputs": [
    {
     "name": "stdout",
     "output_type": "stream",
     "text": [
      "[[0, 0, 0, 0, 0], [0, 0, 0, 1, 1], [0, 0, 0, 0, 1], [0, 1, 0, 0, 1], [0, 1, 1, 1, 0]]\n"
     ]
    }
   ],
   "source": [
    "print(to_adj_matrix(initial_graph(5, [[2, 4], [4, 2], [1, 4], [4, 1], [3, 4], [4, 3], [1, 3], [3, 1]])))"
   ]
  },
  {
   "cell_type": "markdown",
   "id": "3031c41c",
   "metadata": {},
   "source": [
    "(2) We want to divide the pins on **PCB to two parts**. The same part of pins should not be connected, all wires must connect between parts.\n",
    "<br>\n",
    " --> Colors of Graph vertex.\n"
   ]
  },
  {
   "cell_type": "markdown",
   "id": "f8643811",
   "metadata": {},
   "source": [
    "print(is_circuit_wireable(initial_pcb(5, [[2, 4], [4, 2], [1, 4], [4, 1], [3, 4], [4, 3], [1, 3], [3, 1]])))\n",
    "<br>\n",
    "False\n",
    "<br>\n",
    "<br>\n",
    "print(is_circuit_wireable(initial_pcb(4, [[0, 3], [3, 0], [2, 1], [1, 2], [2, 0], [0, 2]])))\n",
    "<br>\n",
    "True\n"
   ]
  },
  {
   "cell_type": "code",
   "execution_count": 9,
   "id": "d862c5de",
   "metadata": {},
   "outputs": [],
   "source": [
    "class Pin:\n",
    "    def __init__(self):\n",
    "        self.side = -1\n",
    "        self.wires = []\n",
    "\n",
    "def initial_pcb(n:int, wire_list:list)->list:\n",
    "    pcb = []\n",
    "    for i in range(n):\n",
    "        pcb.append(Pin())\n",
    "    for w in wire_list:\n",
    "        if 0 <= w[0] < n and 0 <= w[1] < n:\n",
    "            pcb[w[0]].wires.append(pcb[w[1]])\n",
    "    return pcb"
   ]
  },
  {
   "cell_type": "code",
   "execution_count": 49,
   "id": "b7b7994c",
   "metadata": {},
   "outputs": [],
   "source": [
    "def is_circuit_wireable(pcb:list)->bool:\n",
    "    a=[]\n",
    "    b=[]\n",
    "    \n",
    "    for index, vertex in enumerate(pcb):\n",
    "        if vertex not in a and vertex not in b:\n",
    "            a.append(vertex)\n",
    "            for element in vertex.wires:\n",
    "                b.append(element)\n",
    "        elif vertex in a:\n",
    "            for element in vertex.wires:\n",
    "                if element in a:\n",
    "                    return False\n",
    "                elif element not in b:\n",
    "                    b.append(element)\n",
    "        else:\n",
    "            for element in vertex.wires:\n",
    "                if element in b:\n",
    "                    return False\n",
    "                elif element not in a:\n",
    "                    a.append(element)\n",
    "    return True"
   ]
  },
  {
   "cell_type": "code",
   "execution_count": 35,
   "id": "156650be",
   "metadata": {},
   "outputs": [],
   "source": [
    "def is_circuit_wireable(pcb:list)->bool:\n",
    "    for i in pcb:\n",
    "        print(i)\n",
    "        print(i.wires)"
   ]
  },
  {
   "cell_type": "code",
   "execution_count": 50,
   "id": "72e7a075",
   "metadata": {
    "scrolled": true
   },
   "outputs": [
    {
     "name": "stdout",
     "output_type": "stream",
     "text": [
      "True\n"
     ]
    }
   ],
   "source": [
    "print(is_circuit_wireable(initial_pcb(4, [[0, 3], [3, 0], [2, 1], [1, 2], [2, 0], [0, 2]])))"
   ]
  },
  {
   "cell_type": "code",
   "execution_count": 51,
   "id": "1423e9cf",
   "metadata": {},
   "outputs": [
    {
     "ename": "NameError",
     "evalue": "name 'Flase' is not defined",
     "output_type": "error",
     "traceback": [
      "\u001b[1;31m---------------------------------------------------------------------------\u001b[0m",
      "\u001b[1;31mNameError\u001b[0m                                 Traceback (most recent call last)",
      "\u001b[1;32m<ipython-input-51-1cffe979b71d>\u001b[0m in \u001b[0;36m<module>\u001b[1;34m\u001b[0m\n\u001b[1;32m----> 1\u001b[1;33m \u001b[0mprint\u001b[0m\u001b[1;33m(\u001b[0m\u001b[0mis_circuit_wireable\u001b[0m\u001b[1;33m(\u001b[0m\u001b[0minitial_pcb\u001b[0m\u001b[1;33m(\u001b[0m\u001b[1;36m5\u001b[0m\u001b[1;33m,\u001b[0m \u001b[1;33m[\u001b[0m\u001b[1;33m[\u001b[0m\u001b[1;36m2\u001b[0m\u001b[1;33m,\u001b[0m \u001b[1;36m4\u001b[0m\u001b[1;33m]\u001b[0m\u001b[1;33m,\u001b[0m \u001b[1;33m[\u001b[0m\u001b[1;36m4\u001b[0m\u001b[1;33m,\u001b[0m \u001b[1;36m2\u001b[0m\u001b[1;33m]\u001b[0m\u001b[1;33m,\u001b[0m \u001b[1;33m[\u001b[0m\u001b[1;36m1\u001b[0m\u001b[1;33m,\u001b[0m \u001b[1;36m4\u001b[0m\u001b[1;33m]\u001b[0m\u001b[1;33m,\u001b[0m \u001b[1;33m[\u001b[0m\u001b[1;36m4\u001b[0m\u001b[1;33m,\u001b[0m \u001b[1;36m1\u001b[0m\u001b[1;33m]\u001b[0m\u001b[1;33m,\u001b[0m \u001b[1;33m[\u001b[0m\u001b[1;36m3\u001b[0m\u001b[1;33m,\u001b[0m \u001b[1;36m4\u001b[0m\u001b[1;33m]\u001b[0m\u001b[1;33m,\u001b[0m \u001b[1;33m[\u001b[0m\u001b[1;36m4\u001b[0m\u001b[1;33m,\u001b[0m \u001b[1;36m3\u001b[0m\u001b[1;33m]\u001b[0m\u001b[1;33m,\u001b[0m \u001b[1;33m[\u001b[0m\u001b[1;36m1\u001b[0m\u001b[1;33m,\u001b[0m \u001b[1;36m3\u001b[0m\u001b[1;33m]\u001b[0m\u001b[1;33m,\u001b[0m \u001b[1;33m[\u001b[0m\u001b[1;36m3\u001b[0m\u001b[1;33m,\u001b[0m \u001b[1;36m1\u001b[0m\u001b[1;33m]\u001b[0m\u001b[1;33m]\u001b[0m\u001b[1;33m)\u001b[0m\u001b[1;33m)\u001b[0m\u001b[1;33m)\u001b[0m\u001b[1;33m\u001b[0m\u001b[1;33m\u001b[0m\u001b[0m\n\u001b[0m",
      "\u001b[1;32m<ipython-input-49-1dd35041bec9>\u001b[0m in \u001b[0;36mis_circuit_wireable\u001b[1;34m(pcb)\u001b[0m\n\u001b[0;32m     17\u001b[0m             \u001b[1;32mfor\u001b[0m \u001b[0melement\u001b[0m \u001b[1;32min\u001b[0m \u001b[0mvertex\u001b[0m\u001b[1;33m.\u001b[0m\u001b[0mwires\u001b[0m\u001b[1;33m:\u001b[0m\u001b[1;33m\u001b[0m\u001b[1;33m\u001b[0m\u001b[0m\n\u001b[0;32m     18\u001b[0m                 \u001b[1;32mif\u001b[0m \u001b[0melement\u001b[0m \u001b[1;32min\u001b[0m \u001b[0mb\u001b[0m\u001b[1;33m:\u001b[0m\u001b[1;33m\u001b[0m\u001b[1;33m\u001b[0m\u001b[0m\n\u001b[1;32m---> 19\u001b[1;33m                     \u001b[1;32mreturn\u001b[0m \u001b[0mFlase\u001b[0m\u001b[1;33m\u001b[0m\u001b[1;33m\u001b[0m\u001b[0m\n\u001b[0m\u001b[0;32m     20\u001b[0m                 \u001b[1;32melif\u001b[0m \u001b[0melement\u001b[0m \u001b[1;32mnot\u001b[0m \u001b[1;32min\u001b[0m \u001b[0ma\u001b[0m\u001b[1;33m:\u001b[0m\u001b[1;33m\u001b[0m\u001b[1;33m\u001b[0m\u001b[0m\n\u001b[0;32m     21\u001b[0m                     \u001b[0ma\u001b[0m\u001b[1;33m.\u001b[0m\u001b[0mappend\u001b[0m\u001b[1;33m(\u001b[0m\u001b[0melement\u001b[0m\u001b[1;33m)\u001b[0m\u001b[1;33m\u001b[0m\u001b[1;33m\u001b[0m\u001b[0m\n",
      "\u001b[1;31mNameError\u001b[0m: name 'Flase' is not defined"
     ]
    }
   ],
   "source": [
    "print(is_circuit_wireable(initial_pcb(5, [[2, 4], [4, 2], [1, 4], [4, 1], [3, 4], [4, 3], [1, 3], [3, 1]])))"
   ]
  }
 ],
 "metadata": {
  "kernelspec": {
   "display_name": "Python 3",
   "language": "python",
   "name": "python3"
  },
  "language_info": {
   "codemirror_mode": {
    "name": "ipython",
    "version": 3
   },
   "file_extension": ".py",
   "mimetype": "text/x-python",
   "name": "python",
   "nbconvert_exporter": "python",
   "pygments_lexer": "ipython3",
   "version": "3.8.8"
  }
 },
 "nbformat": 4,
 "nbformat_minor": 5
}
