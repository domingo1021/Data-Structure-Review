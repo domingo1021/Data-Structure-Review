{
 "cells": [
  {
   "cell_type": "code",
   "execution_count": 9,
   "id": "9fc28ad2",
   "metadata": {},
   "outputs": [],
   "source": [
    "# 第四題\n",
    "def anagram(s, t):\n",
    "    match = False\n",
    "    if len(s) == len(t) and not match:\n",
    "        s_s = sorted(s)\n",
    "        s_t = sorted(t)\n",
    "        for i in range(len(s)):\n",
    "            if s_s[i] != s_t[i]:\n",
    "                break\n",
    "        match = True\n",
    "    return match\n",
    "        "
   ]
  },
  {
   "cell_type": "code",
   "execution_count": 13,
   "id": "cad468be",
   "metadata": {},
   "outputs": [],
   "source": [
    "def anagram_2(s, t):\n",
    "    if sorted(s) == sorted(t):\n",
    "        return True\n",
    "    else: return False"
   ]
  },
  {
   "cell_type": "code",
   "execution_count": 6,
   "id": "e5e85c54",
   "metadata": {},
   "outputs": [
    {
     "name": "stdout",
     "output_type": "stream",
     "text": [
      "[2, 5, 33, 44]\n"
     ]
    }
   ],
   "source": [
    "x = [2,33,44,5]\n",
    "# sorted(x)\n",
    "x.sort()\n",
    "print(x)"
   ]
  },
  {
   "cell_type": "code",
   "execution_count": 11,
   "id": "eb775138",
   "metadata": {},
   "outputs": [
    {
     "data": {
      "text/plain": [
       "True"
      ]
     },
     "execution_count": 11,
     "metadata": {},
     "output_type": "execute_result"
    }
   ],
   "source": [
    "s= \"earth\"\n",
    "t= \"heart\"\n",
    "a = \"happy\"\n",
    "x = \"aaaa\""
   ]
  },
  {
   "cell_type": "code",
   "execution_count": 16,
   "id": "85dd2d0c",
   "metadata": {},
   "outputs": [
    {
     "name": "stdout",
     "output_type": "stream",
     "text": [
      "True\n",
      "False\n"
     ]
    }
   ],
   "source": [
    "print(anagram_2(s,t))\n",
    "print(anagram_2(a,x))"
   ]
  },
  {
   "cell_type": "code",
   "execution_count": 24,
   "id": "c0dca797",
   "metadata": {},
   "outputs": [],
   "source": [
    "# Invert tree\n",
    "class TreeNode:\n",
    "    def __init__(self, val=0, left=None, right=None):\n",
    "        self.val = val\n",
    "        self.left = left\n",
    "        self.right = right\n",
    "def invertTree(self, root:TreeNode)->TreeNode:\n",
    "    if root==None:\n",
    "        return\n",
    "    root.right, root.left = root.left, root.right\n",
    "    self.invertTree(root.right)\n",
    "    self.invertTree(root.left)\n",
    "    return root"
   ]
  },
  {
   "cell_type": "code",
   "execution_count": 57,
   "id": "e9f265d0",
   "metadata": {},
   "outputs": [
    {
     "data": {
      "text/plain": [
       "True"
      ]
     },
     "execution_count": 57,
     "metadata": {},
     "output_type": "execute_result"
    }
   ],
   "source": [
    "# match\n",
    "def parentheses(s:str)->bool:\n",
    "    p = [\"(\",\"[\",\"{\", \")\", \"]\", \"}\"]\n",
    "    valid = [\"()\",\"[]\",\"{}\"]\n",
    "    all_ = []\n",
    "    left =[]\n",
    "    for element in s:\n",
    "        if element in p:\n",
    "            all_.append(element)\n",
    "    if len(all_) == 0:\n",
    "        return True\n",
    "    for element in all_:\n",
    "        if element in p[0:3]:\n",
    "            left.append(element)\n",
    "        else:\n",
    "            if len(left)==0:\n",
    "                return False\n",
    "            l = left.pop(-1)\n",
    "            if l+element not in valid:\n",
    "                return False\n",
    "    return True\n",
    "        \n",
    "parentheses(\"[12323(121[{22211}]121)33]\")"
   ]
  },
  {
   "cell_type": "code",
   "execution_count": 58,
   "id": "d9abb29c",
   "metadata": {},
   "outputs": [],
   "source": [
    "#linked list\n",
    "class Solution:\n",
    "    def deleteDuplicates(self, head):\n",
    "        curr = head\n",
    "        while curr != None:\n",
    "            if curr.next == None:\n",
    "                break\n",
    "            else:\n",
    "                if curr.val == curr.next.val:\n",
    "                    curr.next = curr.next.next\n",
    "#                     curr = curr.next\n",
    "                else:\n",
    "                    curr = curr.next\n",
    "        return head"
   ]
  }
 ],
 "metadata": {
  "kernelspec": {
   "display_name": "Python 3",
   "language": "python",
   "name": "python3"
  },
  "language_info": {
   "codemirror_mode": {
    "name": "ipython",
    "version": 3
   },
   "file_extension": ".py",
   "mimetype": "text/x-python",
   "name": "python",
   "nbconvert_exporter": "python",
   "pygments_lexer": "ipython3",
   "version": "3.8.8"
  }
 },
 "nbformat": 4,
 "nbformat_minor": 5
}
