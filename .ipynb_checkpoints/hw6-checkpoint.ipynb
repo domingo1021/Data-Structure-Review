{
 "cells": [
  {
   "cell_type": "code",
   "execution_count": 81,
   "id": "1f167b67",
   "metadata": {},
   "outputs": [],
   "source": [
    "def merge_two_sorted_arrays(nums1:list, m:int, nums2:list, n:int):\n",
    "    i_1=0\n",
    "    j_1=0\n",
    "    for index in range(m+n):\n",
    "        if nums1[i_1] is not None and j_1 < n:\n",
    "            if nums1[i_1]>nums2[j_1]:\n",
    "                nums1.insert(i_1, nums2[j_1])\n",
    "                nums1.pop(-1)\n",
    "                i_1 += 1\n",
    "                j_1 += 1\n",
    "            else: i_1+=1\n",
    "        elif j_1 >= n:\n",
    "            break\n",
    "        else:\n",
    "            nums1.insert(i_1, nums2[j_1])\n",
    "            nums1.pop(-1)\n",
    "            i_1+=1\n",
    "            j_1+=1\n",
    "        print(nums1)\n",
    "        print(f\"i: {i_1}, j: {j_1}\")"
   ]
  },
  {
   "cell_type": "code",
   "execution_count": 82,
   "id": "158674c7",
   "metadata": {},
   "outputs": [
    {
     "name": "stdout",
     "output_type": "stream",
     "text": [
      "[-4, 1, 1, 2]\n"
     ]
    }
   ],
   "source": [
    "l = [-4,1,1,2]\n",
    "x = []\n",
    "merge_two_sorted_arrays(l,4,x,0)\n",
    "print(l)"
   ]
  },
  {
   "cell_type": "code",
   "execution_count": 122,
   "id": "fe138d3f",
   "metadata": {},
   "outputs": [],
   "source": [
    "def find_books(prices:list, money:int):\n",
    "    # key: 配合的 price , 與配合的price差值\n",
    "    dictionary = {}\n",
    "    for index, element in enumerate(prices):\n",
    "        match_price = money-element\n",
    "        tem_prices = prices\n",
    "        tem_prices.pop(index)\n",
    "        if match_price in tem_prices:\n",
    "            dictionary[element]=[match_price, abs(element-match_price)]\n",
    "        else: dictionary[element]= None\n",
    "    print(dictionary)\n",
    "    min_price_key = None\n",
    "    for key, value in dictionary.items():\n",
    "        if value is not None:\n",
    "            if min_price_key is not None:\n",
    "                if dictionary[min_price_key][1] > value[1]:\n",
    "                    min_price_key=key\n",
    "            else: min_price_key = key\n",
    "    print(min_price_key)\n",
    "    \n",
    "    if min_price_key is not None:\n",
    "        ans = [min_price_key,dictionary[min_price_key][0]]\n",
    "        ans = [min(ans), max(ans)]\n",
    "        return ans\n",
    "    else:\n",
    "        return [-1,-1]"
   ]
  },
  {
   "cell_type": "code",
   "execution_count": 128,
   "id": "514f8e4e",
   "metadata": {},
   "outputs": [
    {
     "name": "stdout",
     "output_type": "stream",
     "text": [
      "{1, 2, 4}\n"
     ]
    }
   ],
   "source": [
    "l = [1,2,3,4]\n",
    "x = set(l)\n",
    "x.remove(3)\n",
    "print(x)"
   ]
  },
  {
   "cell_type": "code",
   "execution_count": 123,
   "id": "a60cebc3",
   "metadata": {},
   "outputs": [
    {
     "ename": "TypeError",
     "evalue": "argument of type 'NoneType' is not iterable",
     "output_type": "error",
     "traceback": [
      "\u001b[1;31m---------------------------------------------------------------------------\u001b[0m",
      "\u001b[1;31mTypeError\u001b[0m                                 Traceback (most recent call last)",
      "\u001b[1;32m<ipython-input-123-fccfeb921b34>\u001b[0m in \u001b[0;36m<module>\u001b[1;34m\u001b[0m\n\u001b[1;32m----> 1\u001b[1;33m \u001b[0mfind_books\u001b[0m\u001b[1;33m(\u001b[0m\u001b[1;33m[\u001b[0m\u001b[1;36m10\u001b[0m\u001b[1;33m,\u001b[0m\u001b[1;36m2\u001b[0m\u001b[1;33m,\u001b[0m\u001b[1;36m6\u001b[0m\u001b[1;33m,\u001b[0m\u001b[1;36m4\u001b[0m\u001b[1;33m,\u001b[0m\u001b[1;36m8\u001b[0m\u001b[1;33m]\u001b[0m\u001b[1;33m,\u001b[0m\u001b[1;36m10\u001b[0m\u001b[1;33m)\u001b[0m\u001b[1;33m\u001b[0m\u001b[1;33m\u001b[0m\u001b[0m\n\u001b[0m",
      "\u001b[1;32m<ipython-input-122-a8d9a58090ec>\u001b[0m in \u001b[0;36mfind_books\u001b[1;34m(prices, money)\u001b[0m\n\u001b[0;32m      4\u001b[0m     \u001b[1;32mfor\u001b[0m \u001b[0melement\u001b[0m \u001b[1;32min\u001b[0m \u001b[0mprices\u001b[0m\u001b[1;33m:\u001b[0m\u001b[1;33m\u001b[0m\u001b[1;33m\u001b[0m\u001b[0m\n\u001b[0;32m      5\u001b[0m         \u001b[0mmatch_price\u001b[0m \u001b[1;33m=\u001b[0m \u001b[0mmoney\u001b[0m\u001b[1;33m-\u001b[0m\u001b[0melement\u001b[0m\u001b[1;33m\u001b[0m\u001b[1;33m\u001b[0m\u001b[0m\n\u001b[1;32m----> 6\u001b[1;33m         \u001b[1;32mif\u001b[0m \u001b[0mmatch_price\u001b[0m \u001b[1;32min\u001b[0m \u001b[0mset\u001b[0m\u001b[1;33m(\u001b[0m\u001b[0mprices\u001b[0m\u001b[1;33m)\u001b[0m\u001b[1;33m.\u001b[0m\u001b[0mremove\u001b[0m\u001b[1;33m(\u001b[0m\u001b[0melement\u001b[0m\u001b[1;33m)\u001b[0m\u001b[1;33m:\u001b[0m\u001b[1;33m\u001b[0m\u001b[1;33m\u001b[0m\u001b[0m\n\u001b[0m\u001b[0;32m      7\u001b[0m             \u001b[0mdictionary\u001b[0m\u001b[1;33m[\u001b[0m\u001b[0melement\u001b[0m\u001b[1;33m]\u001b[0m\u001b[1;33m=\u001b[0m\u001b[1;33m[\u001b[0m\u001b[0mmatch_price\u001b[0m\u001b[1;33m,\u001b[0m \u001b[0mabs\u001b[0m\u001b[1;33m(\u001b[0m\u001b[0melement\u001b[0m\u001b[1;33m-\u001b[0m\u001b[0mmatch_price\u001b[0m\u001b[1;33m)\u001b[0m\u001b[1;33m]\u001b[0m\u001b[1;33m\u001b[0m\u001b[1;33m\u001b[0m\u001b[0m\n\u001b[0;32m      8\u001b[0m         \u001b[1;32melse\u001b[0m\u001b[1;33m:\u001b[0m \u001b[0mdictionary\u001b[0m\u001b[1;33m[\u001b[0m\u001b[0melement\u001b[0m\u001b[1;33m]\u001b[0m\u001b[1;33m=\u001b[0m \u001b[1;32mNone\u001b[0m\u001b[1;33m\u001b[0m\u001b[1;33m\u001b[0m\u001b[0m\n",
      "\u001b[1;31mTypeError\u001b[0m: argument of type 'NoneType' is not iterable"
     ]
    }
   ],
   "source": [
    "find_books([10,2,6,4,8],10)"
   ]
  },
  {
   "cell_type": "code",
   "execution_count": 111,
   "id": "97b24591",
   "metadata": {},
   "outputs": [
    {
     "name": "stdout",
     "output_type": "stream",
     "text": [
      "None\n"
     ]
    }
   ],
   "source": [
    "print(find_books([10,2,6,4,8],10))"
   ]
  },
  {
   "cell_type": "code",
   "execution_count": 89,
   "id": "10b8ab5b",
   "metadata": {},
   "outputs": [
    {
     "name": "stdout",
     "output_type": "stream",
     "text": [
      "j\n",
      "v\n"
     ]
    }
   ],
   "source": [
    "d = {\"j\":\"v\"}\n",
    "for j in list(d.keys()), list(d.values()):\n",
    "    print(j[0][0])"
   ]
  }
 ],
 "metadata": {
  "kernelspec": {
   "display_name": "Python 3",
   "language": "python",
   "name": "python3"
  },
  "language_info": {
   "codemirror_mode": {
    "name": "ipython",
    "version": 3
   },
   "file_extension": ".py",
   "mimetype": "text/x-python",
   "name": "python",
   "nbconvert_exporter": "python",
   "pygments_lexer": "ipython3",
   "version": "3.8.8"
  }
 },
 "nbformat": 4,
 "nbformat_minor": 5
}
